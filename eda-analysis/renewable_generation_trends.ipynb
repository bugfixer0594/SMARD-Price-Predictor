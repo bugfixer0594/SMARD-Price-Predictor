{
 "cells": [
  {
   "cell_type": "code",
   "execution_count": null,
   "metadata": {},
   "outputs": [],
   "source": [
    "import pandas as pd\n",
    "import matplotlib.pyplot as plt\n",
    "import os\n",
    "\n",
    "BASE_DIR = os.getcwd()\n",
    "PLOTS_DIR = os.path.join(BASE_DIR, \"..\", \"plots\")\n",
    "\n",
    "# Load dataset\n",
    "generation_file = \"../data/refined_files/refined_cleaned_Actual_generation_202301010000_202503050000_Quarterhour.csv\"\n",
    "df_generation = pd.read_csv(generation_file, delimiter=\",\", low_memory=False)\n",
    "\n",
    "# Convert time column to datetime\n",
    "df_generation[\"Start date\"] = pd.to_datetime(df_generation[\"Start date\"])\n",
    "\n",
    "# Check available styles and use a valid one\n",
    "valid_style = \"ggplot\"\n",
    "plt.style.use(valid_style)\n",
    "\n",
    "# Plot renewable generation trends with refined colors\n",
    "plt.figure(figsize=(12, 5))\n",
    "plt.plot(df_generation[\"Start date\"], df_generation[\"Wind onshore [MWh] Original resolutions\"], \n",
    "         label=\"Wind Onshore\", color=\"#1f77b4\", linewidth=1.5)\n",
    "plt.plot(df_generation[\"Start date\"], df_generation[\"Photovoltaics [MWh] Original resolutions\"], \n",
    "         label=\"Solar PV\", color=\"#ff7f0e\", linewidth=1.5)\n",
    "\n",
    "# Refining labels & title\n",
    "plt.xlabel(\"Time\", fontsize=12)\n",
    "plt.ylabel(\"Generation (MWh)\", fontsize=12)\n",
    "plt.title(\"Trends in Wind & Solar Power Generation\", fontsize=14, fontweight=\"bold\")\n",
    "\n",
    "# Formatting legend and grid\n",
    "plt.legend(fontsize=10, loc=\"upper right\")\n",
    "plt.xticks(rotation=30)  # Rotate x-axis labels for better readability\n",
    "plt.grid(True, linestyle=\"--\", alpha=0.6)\n",
    "\n",
    "# Save refined figure\n",
    "plot_filename = \"wind_solar_generation_trends.png\"\n",
    "plt.savefig(os.path.join(PLOTS_DIR, plot_filename), dpi=300, bbox_inches=\"tight\")\n",
    "plt.show()\n",
    "plt.close()\n",
    "\n",
    "print(f\"Plot saved: {os.path.join(PLOTS_DIR, plot_filename)}\")\n"
   ]
  },
  {
   "cell_type": "code",
   "execution_count": null,
   "metadata": {},
   "outputs": [],
   "source": []
  }
 ],
 "metadata": {
  "kernelspec": {
   "display_name": "virtual_env",
   "language": "python",
   "name": "python3"
  },
  "language_info": {
   "codemirror_mode": {
    "name": "ipython",
    "version": 3
   },
   "file_extension": ".py",
   "mimetype": "text/x-python",
   "name": "python",
   "nbconvert_exporter": "python",
   "pygments_lexer": "ipython3",
   "version": "3.12.4"
  }
 },
 "nbformat": 4,
 "nbformat_minor": 2
}
